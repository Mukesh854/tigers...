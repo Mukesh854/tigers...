{
 "cells": [
  {
   "cell_type": "markdown",
   "id": "63ec7957-abcd-4b84-9424-5d2879cada4d",
   "metadata": {},
   "source": [
    "Q1. Which keyword is used to create a function? Create a function to return a list of odd numbers in the\n",
    "range of 1 to 25."
   ]
  },
  {
   "cell_type": "code",
   "execution_count": 9,
   "id": "5175d94f-a0e3-40c6-bbea-c6ed9ef13ce5",
   "metadata": {},
   "outputs": [
    {
     "name": "stdout",
     "output_type": "stream",
     "text": [
      "[1, 3, 5, 7, 9, 11, 13, 15, 17, 19, 21, 23, 25]\n"
     ]
    }
   ],
   "source": [
    "#def keyword is used to create a function\n",
    "\n",
    "def numbers():\n",
    "    odd_numbers = [num for num in range(1, 26) if num % 2 != 0]\n",
    "    return odd_numbers\n",
    "\n",
    "odd_numbers_list=numbers()\n",
    "print(odd_numbers_list)"
   ]
  },
  {
   "cell_type": "markdown",
   "id": "e6d33cb4-10e8-4f4c-82d7-3f49818300e5",
   "metadata": {},
   "source": [
    "Q2. Why *args and **kwargs is used in some functions? Create a function each for *args and **kwargs\n",
    "to demonstrate their use."
   ]
  },
  {
   "cell_type": "markdown",
   "id": "72b4bf41-ffc8-40ef-b78f-9ca9925ee66f",
   "metadata": {},
   "source": [
    "*args and**kwargs are used in Python functions when the number of arguments that a function may receive is uncertain or variable."
   ]
  },
  {
   "cell_type": "code",
   "execution_count": 11,
   "id": "bbc1ba98-e2ef-4b2e-8b48-a6fbd8240cf4",
   "metadata": {},
   "outputs": [
    {
     "name": "stdout",
     "output_type": "stream",
     "text": [
      "51\n",
      "150\n"
     ]
    }
   ],
   "source": [
    "def sum_numbers(*args):\n",
    "    total = 0\n",
    "    for num in args:\n",
    "        total += num\n",
    "    return total\n",
    "\n",
    " \n",
    "print(sum_numbers(1, 2, 3,45)) \n",
    "print(sum_numbers(10, 20, 30, 40, 50))"
   ]
  },
  {
   "cell_type": "code",
   "execution_count": 14,
   "id": "7fcb327d-62ae-4367-8bc0-e0c1ff9e58e3",
   "metadata": {},
   "outputs": [
    {
     "name": "stdout",
     "output_type": "stream",
     "text": [
      "name: Alice\n",
      "age: 30\n",
      "city: New York\n"
     ]
    }
   ],
   "source": [
    "def print_kwargs(**kwargs):\n",
    "    for key, value in kwargs.items():\n",
    "        print(f\"{key}: {value}\")\n",
    "\n",
    "\n",
    "print_kwargs(name=\"Alice\", age=30, city=\"New York\")"
   ]
  },
  {
   "cell_type": "markdown",
   "id": "2b5aeeb5-db5b-476d-b7a1-b403be6cb18a",
   "metadata": {},
   "source": [
    "Q3. What is an iterator in python? Name the method used to initialise the iterator object and the method\n",
    "used for iteration. Use these methods to print the first five elements of the given list [2, 4, 6, 8, 10, 12, 14,\n",
    "16, 18, 20]."
   ]
  },
  {
   "cell_type": "markdown",
   "id": "6ad6ceec-a6c6-44c8-96bc-3578f1590c9b",
   "metadata": {},
   "source": [
    "In Python, an iterator is an object that implements two methods: __iter__() and __next__()"
   ]
  },
  {
   "cell_type": "code",
   "execution_count": 18,
   "id": "26f39434-8ed3-443d-92e9-bc27e7e04fdc",
   "metadata": {},
   "outputs": [
    {
     "name": "stdout",
     "output_type": "stream",
     "text": [
      "2\n",
      "4\n",
      "6\n",
      "8\n",
      "10\n"
     ]
    }
   ],
   "source": [
    "my_list= [2, 4, 6, 8, 10, 12, 14, 16, 18, 20]\n",
    "\n",
    "my_iter=iter(my_list)\n",
    "\n",
    "for i in range(5):\n",
    "    try:\n",
    "        ele=next(my_iter)\n",
    "        print(ele)\n",
    "    \n",
    "    except stopiteration:\n",
    "        break\n",
    "        \n",
    "        \n",
    "        \n",
    "        \n",
    "  \n"
   ]
  },
  {
   "cell_type": "markdown",
   "id": "863aa3b3-722a-4f3c-bc15-6e1d01e31e61",
   "metadata": {},
   "source": [
    "Q4. What is a generator function in python? Why yield keyword is used? Give an example of a generator\n",
    "function."
   ]
  },
  {
   "cell_type": "markdown",
   "id": "2e1ce1b3-6e45-4e8d-b793-a3c58a69cf2a",
   "metadata": {},
   "source": [
    " In python generator fuction is a special type of a function that uses a \"yield\"keyeword instead of \"return\" to generate a sequence of values."
   ]
  },
  {
   "cell_type": "code",
   "execution_count": 27,
   "id": "b43364f8-192b-46fd-b46f-9937a849ea25",
   "metadata": {},
   "outputs": [
    {
     "name": "stdout",
     "output_type": "stream",
     "text": [
      "0\n",
      "2\n",
      "4\n",
      "6\n",
      "8\n"
     ]
    }
   ],
   "source": [
    "def numbers(limit):\n",
    "    num=0\n",
    "    \n",
    "    while num<limit:\n",
    "        yield num\n",
    "        num+=2\n",
    "get_num=numbers(10)   \n",
    "\n",
    "print(next(get_num))\n",
    "print(next(get_num))\n",
    "print(next(get_num))\n",
    "print(next(get_num))\n",
    "print(next(get_num)) \n",
    "        "
   ]
  },
  {
   "cell_type": "markdown",
   "id": "1de390ab-7d3b-4a86-8956-e56dcf500ba0",
   "metadata": {},
   "source": [
    "Q5. Create a generator function for prime numbers less than 1000. Use the next() method to print the\n",
    "first 20 prime numbers."
   ]
  },
  {
   "cell_type": "code",
   "execution_count": 36,
   "id": "45d4fff9-66ed-43d4-bc4b-3829dea7581f",
   "metadata": {},
   "outputs": [
    {
     "name": "stdout",
     "output_type": "stream",
     "text": [
      "2\n",
      "3\n",
      "5\n",
      "7\n",
      "11\n",
      "13\n",
      "17\n",
      "19\n",
      "23\n",
      "29\n",
      "31\n",
      "37\n",
      "41\n",
      "43\n",
      "47\n",
      "53\n",
      "59\n",
      "61\n",
      "67\n",
      "71\n"
     ]
    }
   ],
   "source": [
    "def is_prime(number):\n",
    "    if number < 2:\n",
    "        return False\n",
    "    for i in range(2, int(number**0.5) + 1):\n",
    "        if number % i == 0:\n",
    "            return False\n",
    "    return True\n",
    "\n",
    "def generate_primes(limit):\n",
    "    num = 2\n",
    "    count = 0\n",
    "    while count < limit:\n",
    "        if is_prime(num):\n",
    "            yield num\n",
    "            count += 1\n",
    "        num += 1\n",
    "prime_gen = generate_primes(20)\n",
    "for _ in range(20):\n",
    "    print(next(prime_gen))"
   ]
  },
  {
   "cell_type": "markdown",
   "id": "68276e31-544d-4bd5-94e3-094d16a9025f",
   "metadata": {},
   "source": [
    "Q6. Write a python program to print the first 10 Fibonacci numbers using a while loop."
   ]
  },
  {
   "cell_type": "code",
   "execution_count": 37,
   "id": "fe139aa9-9c4f-4ed4-92bc-c82bf8b8f2d5",
   "metadata": {},
   "outputs": [
    {
     "name": "stdout",
     "output_type": "stream",
     "text": [
      "[0, 1, 1, 2, 3, 5, 8, 13, 21, 34]\n"
     ]
    }
   ],
   "source": [
    "def fibonacci(n):\n",
    "    fib_numbers = [0, 1]\n",
    "    while len(fib_numbers) < n:\n",
    "        next_num = fib_numbers[-1] + fib_numbers[-2]\n",
    "        fib_numbers.append(next_num)\n",
    "    return fib_numbers\n",
    "\n",
    "fibonacci_numbers = fibonacci(10)\n",
    "print(fibonacci_numbers)"
   ]
  },
  {
   "cell_type": "markdown",
   "id": "3aaa84b6-c327-4f59-9c07-c91a3d9e2f64",
   "metadata": {},
   "source": [
    "Q7. Write a List Comprehension to iterate through the given string: ‘pwskills’.\n",
    "Expected output: ['p', 'w', 's', 'k', 'i', 'l', 'l', 's']"
   ]
  },
  {
   "cell_type": "code",
   "execution_count": 40,
   "id": "1ea091f6-4161-4bc8-a2db-95949f605f8a",
   "metadata": {},
   "outputs": [
    {
     "name": "stdout",
     "output_type": "stream",
     "text": [
      "['p', 'w', 's', 'k', 'i', 'l', 'l', 's']\n"
     ]
    }
   ],
   "source": [
    "name=\"pwskills\"\n",
    "\n",
    "k2=[i for i in name]\n",
    "print(k2)"
   ]
  },
  {
   "cell_type": "markdown",
   "id": "0d300dc3-97ce-4f7c-a1c7-31facc67b053",
   "metadata": {},
   "source": [
    "Q8. Write a python program to check whether a given number is Palindrome or not using a while loop."
   ]
  },
  {
   "cell_type": "code",
   "execution_count": 44,
   "id": "2a1596a1-66b3-4c56-a970-989ac002dcea",
   "metadata": {},
   "outputs": [
    {
     "name": "stdout",
     "output_type": "stream",
     "text": [
      "True\n",
      "True\n",
      "False\n"
     ]
    }
   ],
   "source": [
    "def numbers(x):\n",
    "    palin=str(x)\n",
    "    \n",
    "    return palin==palin[::-1]\n",
    "print(numbers(121))\n",
    "print(numbers(545))\n",
    "print(numbers(321))"
   ]
  },
  {
   "cell_type": "markdown",
   "id": "b46c14b2-326f-49e3-9ed5-1ee27f9580c3",
   "metadata": {},
   "source": [
    "Q9. Write a code to print odd numbers from 1 to 100 using list comprehension.\n",
    "Note: Use a list comprehension to create a list from 1 to 100 and use another List comprehension to filter\n",
    "out odd numbers."
   ]
  },
  {
   "cell_type": "code",
   "execution_count": 47,
   "id": "0c5784de-6542-4d17-83a8-b7c15938d591",
   "metadata": {},
   "outputs": [
    {
     "name": "stdout",
     "output_type": "stream",
     "text": [
      "[0, 1, 2, 3, 4, 5, 6, 7, 8, 9, 10, 11, 12, 13, 14, 15, 16, 17, 18, 19, 20, 21, 22, 23, 24, 25, 26, 27, 28, 29, 30, 31, 32, 33, 34, 35, 36, 37, 38, 39, 40, 41, 42, 43, 44, 45, 46, 47, 48, 49, 50, 51, 52, 53, 54, 55, 56, 57, 58, 59, 60, 61, 62, 63, 64, 65, 66, 67, 68, 69, 70, 71, 72, 73, 74, 75, 76, 77, 78, 79, 80, 81, 82, 83, 84, 85, 86, 87, 88, 89, 90, 91, 92, 93, 94, 95, 96, 97, 98, 99, 100]\n"
     ]
    }
   ],
   "source": [
    "list=[i for i in range(101)]\n",
    "print(list)"
   ]
  },
  {
   "cell_type": "code",
   "execution_count": 49,
   "id": "a41c5467-af33-42fc-b0fe-e2fa176ca748",
   "metadata": {},
   "outputs": [
    {
     "ename": "TypeError",
     "evalue": "unsupported operand type(s) for %: 'list' and 'int'",
     "output_type": "error",
     "traceback": [
      "\u001b[0;31m---------------------------------------------------------------------------\u001b[0m",
      "\u001b[0;31mTypeError\u001b[0m                                 Traceback (most recent call last)",
      "Cell \u001b[0;32mIn[49], line 1\u001b[0m\n\u001b[0;32m----> 1\u001b[0m odd_num\u001b[38;5;241m=\u001b[39m[m \u001b[38;5;28;01mfor\u001b[39;00m m \u001b[38;5;129;01min\u001b[39;00m \u001b[38;5;28mlist\u001b[39m \u001b[38;5;28;01mif\u001b[39;00m \u001b[38;5;28mlist\u001b[39m \u001b[38;5;241m%\u001b[39m\u001b[38;5;241m2\u001b[39m \u001b[38;5;241m!=\u001b[39m\u001b[38;5;241m0\u001b[39m]\n\u001b[1;32m      2\u001b[0m \u001b[38;5;28mprint\u001b[39m(odd_num)\n",
      "Cell \u001b[0;32mIn[49], line 1\u001b[0m, in \u001b[0;36m<listcomp>\u001b[0;34m(.0)\u001b[0m\n\u001b[0;32m----> 1\u001b[0m odd_num\u001b[38;5;241m=\u001b[39m[m \u001b[38;5;28;01mfor\u001b[39;00m m \u001b[38;5;129;01min\u001b[39;00m \u001b[38;5;28mlist\u001b[39m \u001b[38;5;28;01mif\u001b[39;00m \u001b[38;5;28;43mlist\u001b[39;49m\u001b[43m \u001b[49m\u001b[38;5;241;43m%\u001b[39;49m\u001b[38;5;241;43m2\u001b[39;49m \u001b[38;5;241m!=\u001b[39m\u001b[38;5;241m0\u001b[39m]\n\u001b[1;32m      2\u001b[0m \u001b[38;5;28mprint\u001b[39m(odd_num)\n",
      "\u001b[0;31mTypeError\u001b[0m: unsupported operand type(s) for %: 'list' and 'int'"
     ]
    }
   ],
   "source": [
    "odd_num=[m for m in list if list %2 !=0]\n",
    "print(odd_num)"
   ]
  },
  {
   "cell_type": "code",
   "execution_count": null,
   "id": "d6cb5b68-9780-4009-9267-1b77778365f2",
   "metadata": {},
   "outputs": [],
   "source": []
  }
 ],
 "metadata": {
  "kernelspec": {
   "display_name": "Python 3 (ipykernel)",
   "language": "python",
   "name": "python3"
  },
  "language_info": {
   "codemirror_mode": {
    "name": "ipython",
    "version": 3
   },
   "file_extension": ".py",
   "mimetype": "text/x-python",
   "name": "python",
   "nbconvert_exporter": "python",
   "pygments_lexer": "ipython3",
   "version": "3.10.8"
  }
 },
 "nbformat": 4,
 "nbformat_minor": 5
}
